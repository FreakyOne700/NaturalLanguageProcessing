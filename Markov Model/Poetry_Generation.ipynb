{
  "nbformat": 4,
  "nbformat_minor": 0,
  "metadata": {
    "colab": {
      "provenance": []
    },
    "kernelspec": {
      "name": "python3",
      "display_name": "Python 3"
    },
    "language_info": {
      "name": "python"
    }
  },
  "cells": [
    {
      "cell_type": "code",
      "execution_count": 49,
      "metadata": {
        "id": "0nq7J46zgNlH"
      },
      "outputs": [],
      "source": [
        "import numpy as np\n",
        "import string"
      ]
    },
    {
      "cell_type": "code",
      "source": [
        "initial = {}\n",
        "first_order = {}\n",
        "second_order = {}\n"
      ],
      "metadata": {
        "id": "MLglxqAggSP8"
      },
      "execution_count": 50,
      "outputs": []
    },
    {
      "cell_type": "code",
      "source": [
        "def remove_punctuation(s):\n",
        "  return s.translate(str.maketrans('','',string.punctuation))\n",
        ""
      ],
      "metadata": {
        "id": "z3yo7uBngjhL"
      },
      "execution_count": 51,
      "outputs": []
    },
    {
      "cell_type": "code",
      "source": [
        "!wget -nc https://github.com/lazyprogrammer/machine_learning_examples/blob/master/hmm_class/edgar_allan_poe.txt\n"
      ],
      "metadata": {
        "colab": {
          "base_uri": "https://localhost:8080/"
        },
        "id": "BkIf65zEgzFh",
        "outputId": "ff2a69ed-e24e-45c6-9175-70042bedc078"
      },
      "execution_count": 52,
      "outputs": [
        {
          "output_type": "stream",
          "name": "stdout",
          "text": [
            "File ‘edgar_allan_poe.txt’ already there; not retrieving.\n",
            "\n"
          ]
        }
      ]
    },
    {
      "cell_type": "code",
      "source": [
        "def add_2_dict(dic,key,val):\n",
        "  if key not in dic:\n",
        "    dic[key]=[]\n",
        "  dic[key].append(val)"
      ],
      "metadata": {
        "id": "ivb3A1ZUhB9C"
      },
      "execution_count": 53,
      "outputs": []
    },
    {
      "cell_type": "code",
      "source": [
        "for line in open('edgar_allan_poe.txt'):\n",
        "  token = remove_punctuation(line.rstrip().lower()).split()\n",
        "\n",
        "  T = len(token)\n",
        "  for i in range(T):\n",
        "    t=token[i]\n",
        "    if i==0:\n",
        "      initial[t] = initial.get(t,0.) + 1\n",
        "    else:\n",
        "      t_1 = token[i-1]\n",
        "      if i == T-1:\n",
        "        add_2_dict(second_order,(t_1,t),'END')\n",
        "      if i ==1:\n",
        "        add_2_dict(first_order,t_1,t)\n",
        "      else:\n",
        "        t_2 = token[i-2]\n",
        "        add_2_dict(second_order,(t_2,t_1),t)\n"
      ],
      "metadata": {
        "id": "f8LK5K6dhmtJ"
      },
      "execution_count": 55,
      "outputs": []
    },
    {
      "cell_type": "code",
      "source": [
        "initial_total = sum(initial.values())\n",
        "for t,c in initial.items():\n",
        "  initial[t] = c /initial_total"
      ],
      "metadata": {
        "id": "4-iQc1pxh9II"
      },
      "execution_count": 56,
      "outputs": []
    },
    {
      "cell_type": "code",
      "source": [
        "def list_2_dict(ts):\n",
        "  d = {}\n",
        "  n = len(ts)\n",
        "  for t in ts:\n",
        "    d[t] = d.get(t,0.)+1\n",
        "  for t,c in d.items():\n",
        "    d[t] = c/n\n",
        "\n",
        "  return d"
      ],
      "metadata": {
        "id": "m9bdhnQFjzza"
      },
      "execution_count": 57,
      "outputs": []
    },
    {
      "cell_type": "code",
      "source": [
        "for t_1,ts in first_order.items():\n",
        "  first_order[t_1] = list_2_dict(ts)"
      ],
      "metadata": {
        "id": "WPcPhbi-mSOf"
      },
      "execution_count": 58,
      "outputs": []
    },
    {
      "cell_type": "code",
      "source": [
        "for k,ts in second_order.items():\n",
        "  second_order[k] = list_2_dict(ts)\n",
        ""
      ],
      "metadata": {
        "id": "94P20eU8mlJ1"
      },
      "execution_count": 60,
      "outputs": []
    },
    {
      "cell_type": "code",
      "source": [
        "def sample_word(d):\n",
        "  p0 = np.random.random()\n",
        "\n",
        "  cumulative = 0\n",
        "  for t,p in d.items():\n",
        "    cumulative += p\n",
        "    if p0 < cumulative:\n",
        "      return t\n",
        "  assert(False)"
      ],
      "metadata": {
        "id": "0mOvg1limxSF"
      },
      "execution_count": 61,
      "outputs": []
    },
    {
      "cell_type": "code",
      "source": [
        "\n",
        "def generate():\n",
        "  for i in range(4):\n",
        "    sentence = []\n",
        "    w0= sample_word(initial)\n",
        "    sentence.append(w0)\n",
        "\n",
        "    w1 = sample_word(first_order[w0])\n",
        "    sentence.append(w1)\n",
        "\n",
        "    while True:\n",
        "      w2 = sample_word(second_order[(w0,w1)])\n",
        "      if w2 == 'END':\n",
        "        break\n",
        "      sentence.append(w2)\n",
        "      w0 = w1\n",
        "      w1 = w2\n",
        "    print(' '.join(sentence))"
      ],
      "metadata": {
        "id": "iawCDVuGuXk1"
      },
      "execution_count": 62,
      "outputs": []
    },
    {
      "cell_type": "code",
      "source": [
        "generate()"
      ],
      "metadata": {
        "colab": {
          "base_uri": "https://localhost:8080/"
        },
        "id": "pKk8K6o6vWoK",
        "outputId": "c652a308-acf6-49df-fb50-38943f76b856"
      },
      "execution_count": 63,
      "outputs": [
        {
          "output_type": "stream",
          "name": "stdout",
          "text": [
            "a hideous throng rush out forever\n",
            "of sculturd ivy and stone flowers\n",
            "no holy rays from heaven come down\n",
            "and love a simple duty\n"
          ]
        }
      ]
    },
    {
      "cell_type": "code",
      "source": [],
      "metadata": {
        "id": "pfFNb70avYAW"
      },
      "execution_count": null,
      "outputs": []
    }
  ]
}